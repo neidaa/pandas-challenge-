{
 "cells": [
  {
   "cell_type": "code",
   "execution_count": null,
   "metadata": {},
   "outputs": [],
   "source": [
    "#Dependencies and Setup\n",
    "import pandas as pd \n",
    "import numpy as np \n",
    "\n",
    "# File to Load \n",
    "file_to_load_json = \"raw_data/purchase_data.json\"\n",
    "\n",
    "#Read purchasing file and store into pandas data frame \n",
    "purchase_data = pd.read_json(file_to_load_json, orient=\"records\")"
   ]
  },
  {
   "cell_type": "code",
   "execution_count": null,
   "metadata": {},
   "outputs": [],
   "source": [
    "#Calculate the number of players \n",
    "player_demographics = purchase_data.loc[:,[\"Gender\", \"SN\",\"Age\" ]]\n",
    "Player_demographics = purchase_demographics.drop_duplicates()\n",
    "num_players = player_demographics.count()[0]\n",
    "\n",
    "#Total number of players\n",
    "pd.DataFrame ({\"Total Players\": [num_players]})"
   ]
  },
  {
   "cell_type": "code",
   "execution_count": null,
   "metadata": {},
   "outputs": [],
   "source": [
    "# Run basic information\n",
    "average_item_price = purchase_data[\"Price\"].mean()\n",
    "total_purchase_value = purchase_data[\"Price\"].sum()\n",
    "purchase_count = purchase_data[\"Price\"].count()\n",
    "item_count = len(purcahse_data[\"Item ID\"].unique())\n",
    "\n",
    "#Dataframe to hold results\n",
    "summary_table = pd.DataFrame({\"Number of Unique Items\": item count,\n",
    "                             \"Total Revenue\":[total_purchase_value],\n",
    "                             \"Number of Purchases\": [purchase_count],\n",
    "                             \"Average Price\": [average_item_price]})\n",
    "#Minor Data\n",
    "summary_table = summary_table.round(2)\n",
    "summary_table [\"Average Price\"] = summary_table[\"Average Price\"].map(\"${:,.2f}\".format)\n",
    "summary_table [\"Number of Purchases\"] = summary_table[\"Number of Purchases\"].map(\"{:,}\".format)\n",
    "summary_table [\"Total Revenue\"] = summary_table[\"Total Revenue\"].map(\"${:,.2f}\".format)\n",
    "summary_table = summary_table.loc[:,\"Number of Unique Items\", \"Average Price\", \"Number of Purchases\", \"Total Revenue\"]\n",
    "\n",
    "#Display the summary_table \n",
    "summary_table"
   ]
  },
  {
   "cell_type": "code",
   "execution_count": null,
   "metadata": {},
   "outputs": [],
   "source": [
    "#Number and Percentage by Gender\n",
    "gender_demographics_totals = player_demographics[\"Gender\"].value_counts()\n",
    "gender_demographics_percents = gender_demographics_totals / num_players * 100\n",
    "gender_demographics = pd.DataFrame({\"Total Count\": gender_demographics_totals, \"Percentage of Players\": gender_demographics_percents})\n",
    "\n",
    "#Minor data\n",
    "gender_demographics = gender_demographics.round(2)\n",
    "gender_demographics[\"Percentage of Players\"] = gender_demographics[\"Percentage of Players\"].map(\"\"{:,.2f}%.format)\n",
    "\n",
    "gender_demographics"
   ]
  },
  {
   "cell_type": "code",
   "execution_count": null,
   "metadata": {},
   "outputs": [],
   "source": [
    "#Run basic information\n",
    "gender_purchase_total = purchase_data.groupby([\"Gender\"]).sum()[\"Price\"].rename(\"Total Purchase Value\")\n",
    "gender_average = purchase_data.groupby([\"Gender\"]).mean()[\"Price\"].rename(\"Average Purchase Price\")\n",
    "gender_counts = purcahse_data.groupby([\"Gender\"]).count()[\"Price\"].rename(\"Purchase Count\")\n",
    "\n",
    "#Normalize Purchasing \n",
    "normalized_total = gender_purchase_total / gender_demographics[\"Total Count\"]\n",
    "\n",
    "#Convert to data frame \n",
    "gender_data = pd.DataFrame({\"Purchase Count\": gender counts, \"Average Purchase Price\": gender_average, \"Total Purchase Price\": gender_purchase_total, \"Normalized Totals\": normalized_totals})\n",
    "\n",
    "#minor data\n",
    "gender_data[\"Average Purchase Price\"] = gender_data[\"Average Purchase Price\"].map(\"${:,.2f}\".format)\n",
    "gender_data[\"Total Purchase Value\"] = gender_data[\"Total Purchase Value\"].map(\"${:,.2f}\".format)\n",
    "gender_data[\"Purchase Count\"] = gender_data[\"Purchase Count\"].map(\"{:,}\".format)\n",
    "gender_data[\"Normalized Totals\"] = gender_data[\"Normalized Totals\"].map(\"${:,.2f}\".format)\n",
    "gender_data = gender_data.loc[:, [\"Purchase Count\", \"Average Purchase Price\", \"Total Purchase Value\", \"Purchase Count\", \"Normalized Totals\"]]\n",
    "\n",
    "#The Gender Table\n",
    "gender_data"
   ]
  },
  {
   "cell_type": "code",
   "execution_count": null,
   "metadata": {},
   "outputs": [],
   "source": [
    "#Establish the bins\n",
    "age_bins = [0, 9.90, 14.90, 19.90, 24.90, 29.90, 34.90, 39.90, 99999]\n",
    "group_names = [\"<10\", \"10-14\", \"15-19\", \"20-24\", \"25-29\", \"30-34\", \"35-39\", \"40+\"]\n",
    "\n",
    "#Existing players using the age bins\n",
    "player_demographics[\"Age Ranger\"] = pd.cut(player_demographics[\"Age\"], age_bins, labels=group_names)\n",
    "\n",
    "#Numbers and Percentages by age group \n",
    "age_demographics_totals = player_demographics[\"Age Ranges\"].value_counts()\n",
    "age_demographics_percents = age_demographics_totals / num_players * 100\n",
    "age_demographics = pd.DataFrame ({\"Total Count\": age_demographics_totals, \"Percentage of Players\": age_demographics_percent})\n",
    "\n",
    "#Minor data\n",
    "age_demographics = age_demographics.round(2)\n",
    "age_demogrpahics[\"Percenatge of Player\"] = age_demographics[\"percentage of players\"].map\n",
    "\n",
    "#Age demographics table \n",
    "age_demogrpahics.sor_index()"
   ]
  },
  {
   "cell_type": "code",
   "execution_count": null,
   "metadata": {},
   "outputs": [],
   "source": [
    "#The Purchasing data\n",
    "purcahse_data[\"Age Ranges\"] = pd.cut(purchase_data[\"Age\"], age_bins, labels=group_names)\n",
    "\n",
    "#Run Basic information\n",
    "age_purchase_total = purchase_data.groupby([\"Age Ranges\"]).sum()[\"Price\"].rename(\"Total Purchase Value\")\n",
    "age_average = purcahse_data.groupby([\"Age Ranges\"]).mean()[\"Price\"].rename(\"Average Purchase Price\")\n",
    "age_counts = purchase_data.groupby([\"Age Ranges\"]).count()[\"Price\"].rename(\"Purchase Count\")\n",
    "\n",
    "#Normalized Purchasing\n",
    "normalized_total = age_purchase_total / age_demographics[\"Total Count\"]\n",
    "\n",
    "#Convert to Dataframe \n",
    "age_data = pd.DataFrame ({\"Purchase Count\": age_counts, \"Average Purcahse Price\": age_average, \"Total Purchase Value\": average_purchase_total})\n",
    "\n",
    "#Minor data\n",
    "age_data[\"Average Purchase Price\"]= age_data[\"Average Purchase Price\"].map(\"${:,.2f}\".format)\n",
    "age_data[\"Total Purchase Value\"]= age_data[\"Total Purchase Value\"].map(\"${:,.2f}\".format)\n",
    "age_data[\"Purchase Count\"]= age_data[\"Purchase Count\"].map(\"{:,}\".format)\n",
    "age_data[\"Normalized Totals\"]= age_data[\"Normalized Totals\"].map(\"${:,.2f}\".format)\n",
    "age_data = age_data.loc[:,[\"Purchase Count\", \"Average Purchase Price\", \"Total Purchase Value\", \"Normalized Totals\"]]\n",
    "\n",
    "#The Age Table \n",
    "age_data"
   ]
  }
 ],
 "metadata": {
  "kernelspec": {
   "display_name": "Python 3",
   "language": "python",
   "name": "python3"
  },
  "language_info": {
   "codemirror_mode": {
    "name": "ipython",
    "version": 3
   },
   "file_extension": ".py",
   "mimetype": "text/x-python",
   "name": "python",
   "nbconvert_exporter": "python",
   "pygments_lexer": "ipython3",
   "version": "3.7.6"
  }
 },
 "nbformat": 4,
 "nbformat_minor": 4
}
